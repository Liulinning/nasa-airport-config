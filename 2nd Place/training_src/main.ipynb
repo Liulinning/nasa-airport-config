{
 "cells": [
  {
   "cell_type": "code",
   "execution_count": null,
   "id": "be2d8c30",
   "metadata": {
    "collapsed": false
   },
   "outputs": [],
   "source": [
    "import pandas as pd\n",
    "import numpy as np\n",
    "import datetime\n",
    "\n",
    "from src.const import *\n",
    "from src.feature_processing_functions import *\n",
    "from src.helpers import get_file_path\n",
    "\n",
    "from src.data_processing_pipeline import process_data\n",
    "from src.submodel_pipeline import train_submodels\n",
    "from src.bridge_pipeline import run_bridge_pipeline\n",
    "from src.nn_pipeline import train_final_model"
   ]
  },
  {
   "cell_type": "markdown",
   "id": "7d8ff6a6",
   "metadata": {
    "collapsed": false
   },
   "source": [
    "# Define Train, Val, and Test Timestamps"
   ]
  },
  {
   "cell_type": "code",
   "execution_count": null,
   "id": "2c6e41a3",
   "metadata": {
    "collapsed": false
   },
   "outputs": [],
   "source": [
    "train_labels_df = ensure_datetime(pd.read_csv(f\"{DATA_DIR}/open_submission_format.csv\"))\n",
    "train_timestamps = sorted(list(train_labels_df['timestamp'].unique()))\n",
    "\n",
    "open_sub_df = ensure_datetime(pd.read_csv(f\"{DATA_DIR}/open_submission_format.csv\"))\n",
    "val_timestamps = (\n",
    "    sorted(\n",
    "        (open_sub_df['timestamp'].unique())\n",
    "    ) + sorted(\n",
    "        list(\n",
    "            pd.date_range(\n",
    "                start=datetime.datetime(2021,10,18,10,0,0),\n",
    "                end=datetime.datetime(2021,10,31,16,0,0),\n",
    "                freq='60T',\n",
    "            ).to_frame(name='timestamp')['timestamp'].unique()\n",
    "        )\n",
    "    ) \n",
    ")\n",
    "\n",
    "test_timestamps = sorted(\n",
    "    list(\n",
    "        pd.date_range(\n",
    "            start=datetime.datetime(2020,11,1,4,0,0),\n",
    "            end=datetime.datetime(2020,11,6,22,0,0),\n",
    "            freq='60T'\n",
    "        ).to_frame(name='timestamp')['timestamp'].unique()\n",
    "    )\n",
    ")\n",
    "\n"
   ]
  },
  {
   "cell_type": "markdown",
   "id": "d4bf668f",
   "metadata": {
    "collapsed": false
   },
   "source": [
    "# Process Raw Data"
   ]
  },
  {
   "cell_type": "code",
   "execution_count": null,
   "id": "b1a449fc",
   "metadata": {
    "collapsed": false
   },
   "outputs": [],
   "source": [
    "process_data(train_timestamps, val_timestamps, test_timestamps)"
   ]
  },
  {
   "cell_type": "markdown",
   "id": "12f1bc6b",
   "metadata": {
    "collapsed": false
   },
   "source": [
    "# Train Submodels"
   ]
  },
  {
   "cell_type": "code",
   "execution_count": null,
   "id": "e7ed03e6",
   "metadata": {
    "collapsed": false
   },
   "outputs": [],
   "source": [
    "train_submodels()"
   ]
  },
  {
   "cell_type": "markdown",
   "id": "ad324465",
   "metadata": {
    "collapsed": false
   },
   "source": [
    "# Run the Bridge Pipeline"
   ]
  },
  {
   "cell_type": "code",
   "execution_count": null,
   "id": "1c24f4c2",
   "metadata": {
    "collapsed": false
   },
   "outputs": [],
   "source": [
    "run_bridge_pipeline()"
   ]
  },
  {
   "cell_type": "markdown",
   "id": "0cf81e9d",
   "metadata": {
    "collapsed": false
   },
   "source": [
    "# Train Final Model"
   ]
  },
  {
   "cell_type": "code",
   "execution_count": null,
   "id": "62899b51",
   "metadata": {
    "collapsed": false
   },
   "outputs": [],
   "source": [
    "train_final_model()"
   ]
  }
 ],
 "metadata": {
  "kernelspec": {
   "argv": [
    "python",
    "-m",
    "ipykernel_launcher",
    "-f",
    "{connection_file}"
   ],
   "display_name": "Python 3 (ipykernel)",
   "env": null,
   "interrupt_mode": "signal",
   "language": "python",
   "metadata": {
    "debugger": true
   },
   "name": "python3"
  },
  "language_info": {
   "codemirror_mode": {
    "name": "ipython",
    "version": 3
   },
   "file_extension": ".py",
   "mimetype": "text/x-python",
   "name": "python",
   "nbconvert_exporter": "python",
   "pygments_lexer": "ipython3",
   "version": "3.10.2"
  },
  "name": "main.ipynb",
  "vscode": {
   "interpreter": {
    "hash": "47c615e80d48d75ff638a738333abe3d46b1fc7adc77353ebb6b9e41e3ec1ee1"
   }
  }
 },
 "nbformat": 4,
 "nbformat_minor": 5
}
